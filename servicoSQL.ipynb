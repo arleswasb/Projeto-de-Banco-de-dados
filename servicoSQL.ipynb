{
 "cells": [
  {
   "cell_type": "code",
   "execution_count": 8,
   "id": "0f07e12b",
   "metadata": {},
   "outputs": [],
   "source": [
    "import mysql.connector\n",
    "from mysql.connector import Error\n",
    "import pandas as pd"
   ]
  },
  {
   "cell_type": "code",
   "execution_count": 10,
   "id": "7a8eabfd",
   "metadata": {},
   "outputs": [],
   "source": [
    "import mysql.connector\n",
    "from mysql.connector import Error\n",
    "\n",
    "def create_connection():\n",
    "    \"\"\"Cria uma conexão com o banco de dados MySQL\"\"\"\n",
    "    connection = None\n",
    "    try:\n",
    "        connection = mysql.connector.connect(\n",
    "            host='localhost',\n",
    "            user='seu_usuario',  # normalmente 'root' se for local\n",
    "            password='sua_senha',\n",
    "            database='nome_do_banco'  # opcional, pode criar depois\n",
    "        )\n",
    "        print(\"Conexão ao MySQL bem-sucedida\")\n",
    "        return connection\n",
    "    except Error as e:\n",
    "        print(f\"Erro ao conectar ao MySQL: {e}\")\n",
    "        return None\n",
    "    "
   ]
  },
  {
   "cell_type": "code",
   "execution_count": 11,
   "id": "bc1f4fd1",
   "metadata": {},
   "outputs": [
    {
     "ename": "",
     "evalue": "",
     "output_type": "error",
     "traceback": [
      "\u001b[1;31mThe Kernel crashed while executing code in the current cell or a previous cell. \n",
      "\u001b[1;31mPlease review the code in the cell(s) to identify a possible cause of the failure. \n",
      "\u001b[1;31mClick <a href='https://aka.ms/vscodeJupyterKernelCrash'>here</a> for more info. \n",
      "\u001b[1;31mView Jupyter <a href='command:jupyter.viewOutput'>log</a> for further details."
     ]
    }
   ],
   "source": [
    "def create_table(connection, create_table_sql):\n",
    "    \"\"\"Cria uma tabela a partir da instrução SQL\"\"\"\n",
    "    try:\n",
    "        cursor = connection.cursor()\n",
    "        cursor.execute(create_table_sql)\n",
    "        print(\"Tabela criada com sucesso\")\n",
    "    except Error as e:\n",
    "        print(f\"Erro ao criar tabela: {e}\")\n",
    "\n",
    "# Exemplo de uso:\n",
    "if __name__ == \"__main__\":\n",
    "    conn = create_connection()\n",
    "    \n",
    "    if conn is not None:\n",
    "        sql_create_projects_table = \"\"\"\n",
    "        CREATE TABLE IF NOT EXISTS projects (\n",
    "            id INT AUTO_INCREMENT PRIMARY KEY,\n",
    "            name VARCHAR(255) NOT NULL,\n",
    "            start_date DATE,\n",
    "            end_date DATE\n",
    "        );\n",
    "        \"\"\"\n",
    "        \n",
    "        create_table(conn, sql_create_projects_table)\n",
    "        conn.close()"
   ]
  }
 ],
 "metadata": {
  "kernelspec": {
   "display_name": "Python 3",
   "language": "python",
   "name": "python3"
  },
  "language_info": {
   "codemirror_mode": {
    "name": "ipython",
    "version": 3
   },
   "file_extension": ".py",
   "mimetype": "text/x-python",
   "name": "python",
   "nbconvert_exporter": "python",
   "pygments_lexer": "ipython3",
   "version": "3.10.6"
  }
 },
 "nbformat": 4,
 "nbformat_minor": 5
}
